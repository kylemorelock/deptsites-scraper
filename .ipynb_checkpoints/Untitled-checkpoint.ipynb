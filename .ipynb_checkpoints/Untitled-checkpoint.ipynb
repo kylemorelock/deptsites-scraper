{
 "cells": [
  {
   "cell_type": "code",
   "execution_count": null,
   "metadata": {
    "collapsed": true
   },
   "outputs": [],
   "source": [
    "import os, csv\n",
    "\n",
    "\n",
    "\n",
    "def start_requests(self):\n",
    "    requests = []\n",
    "    input_filepath = os.path.join(os.getcwd(), \"lti_input_csvs\", \"lti_adjunct.csv\")\n",
    "    with open(input_filepath) as csvfile:\n",
    "        csvreader = csv.DictReader(csvfile)\n",
    "        for row in csvreader:\n",
    "\n",
    "            if row['department_url'] != '':\n",
    "                print(row['department_url'])\n",
    "                req = row['department_url']\n",
    "                requests.append(req)\n",
    "    \n",
    "    return requests\n",
    "\n"
   ]
  }
 ],
 "metadata": {
  "kernelspec": {
   "display_name": "Python 3",
   "language": "python",
   "name": "python3"
  },
  "language_info": {
   "codemirror_mode": {
    "name": "ipython",
    "version": 3
   },
   "file_extension": ".py",
   "mimetype": "text/x-python",
   "name": "python",
   "nbconvert_exporter": "python",
   "pygments_lexer": "ipython3",
   "version": "3.6.0"
  }
 },
 "nbformat": 4,
 "nbformat_minor": 2
}
